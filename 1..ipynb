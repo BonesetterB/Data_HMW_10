{
 "cells": [
  {
   "cell_type": "code",
   "execution_count": 15,
   "metadata": {},
   "outputs": [],
   "source": [
    "from keras.datasets import fashion_mnist\n",
    "from keras.models import Sequential\n",
    "from keras.layers import Dense,Flatten,Dropout,MaxPooling2D,Conv2D\n",
    "from keras.utils import to_categorical\n",
    "from keras import utils\n",
    "from keras.callbacks import ModelCheckpoint\n",
    "import tensorflow as tf"
   ]
  },
  {
   "cell_type": "code",
   "execution_count": 16,
   "metadata": {},
   "outputs": [
    {
     "name": "stdout",
     "output_type": "stream",
     "text": [
      "x_train original shape (60000, 28, 28)\n",
      "y_train original shape (60000,)\n"
     ]
    }
   ],
   "source": [
    "(x_train, y_train), (x_test, y_test) = fashion_mnist.load_data()\n",
    "print(\"x_train original shape\", x_train.shape)\n",
    "print(\"y_train original shape\", y_train.shape)\n",
    "\n",
    "\n",
    "\n",
    "x_train = x_train.reshape(60000, 784)\n",
    "x_test = x_test.reshape(10000, 784)\n",
    "\n",
    "x_train = x_train / 255 \n",
    "x_test = x_test / 255 \n"
   ]
  },
  {
   "cell_type": "code",
   "execution_count": 17,
   "metadata": {},
   "outputs": [
    {
     "name": "stdout",
     "output_type": "stream",
     "text": [
      "x_train shape: (55000, 28, 28, 1) y_train shape: (55000, 10)\n",
      "55000 train set\n",
      "5000 validation set\n",
      "10000 test set\n"
     ]
    }
   ],
   "source": [
    "(x_train, x_valid) = x_train[5000:], x_train[:5000] \n",
    "(y_train, y_valid) = y_train[5000:], y_train[:5000]\n",
    "\n",
    "x_train = x_train.reshape(x_train.shape[0], 28, 28, 1)\n",
    "x_valid = x_valid.reshape(x_valid.shape[0], 28, 28, 1)\n",
    "x_test = x_test.reshape(x_test.shape[0], 28, 28, 1)\n",
    "\n",
    "y_train = utils.to_categorical(y_train, 10)\n",
    "y_valid = utils.to_categorical(y_valid, 10)\n",
    "y_test = utils.to_categorical(y_test, 10)\n",
    "\n",
    "print(\"x_train shape:\", x_train.shape, \"y_train shape:\", y_train.shape)\n",
    "\n",
    "print(x_train.shape[0], 'train set')\n",
    "print(x_valid.shape[0], 'validation set')\n",
    "print(x_test.shape[0], 'test set')"
   ]
  },
  {
   "cell_type": "code",
   "execution_count": 24,
   "metadata": {},
   "outputs": [],
   "source": [
    "model = Sequential([\n",
    "      Conv2D(filters=64, kernel_size=2, padding='same', activation='relu', input_shape=(28,28,1)),\n",
    "      MaxPooling2D(pool_size=2),\n",
    "      Dropout(0.1),\n",
    "      Conv2D(filters=32, kernel_size=2, padding='same', activation='relu'),\n",
    "      MaxPooling2D(pool_size=2),\n",
    "      Dropout(0.1),\n",
    "      Flatten(),\n",
    "      Dense(256, activation='relu'),\n",
    "      Dropout(0.1),\n",
    "      Dense(10, activation='softmax')\n",
    "])\n",
    "model.compile(loss='categorical_crossentropy',\n",
    "             optimizer='adam',\n",
    "             metrics=['accuracy'])"
   ]
  },
  {
   "cell_type": "code",
   "execution_count": 19,
   "metadata": {},
   "outputs": [
    {
     "name": "stdout",
     "output_type": "stream",
     "text": [
      "Model: \"sequential_1\"\n",
      "_________________________________________________________________\n",
      " Layer (type)                Output Shape              Param #   \n",
      "=================================================================\n",
      " conv2d_2 (Conv2D)           (None, 28, 28, 64)        320       \n",
      "                                                                 \n",
      " max_pooling2d_2 (MaxPoolin  (None, 14, 14, 64)        0         \n",
      " g2D)                                                            \n",
      "                                                                 \n",
      " dropout_3 (Dropout)         (None, 14, 14, 64)        0         \n",
      "                                                                 \n",
      " conv2d_3 (Conv2D)           (None, 14, 14, 32)        8224      \n",
      "                                                                 \n",
      " max_pooling2d_3 (MaxPoolin  (None, 7, 7, 32)          0         \n",
      " g2D)                                                            \n",
      "                                                                 \n",
      " dropout_4 (Dropout)         (None, 7, 7, 32)          0         \n",
      "                                                                 \n",
      " flatten_1 (Flatten)         (None, 1568)              0         \n",
      "                                                                 \n",
      " dense_2 (Dense)             (None, 256)               401664    \n",
      "                                                                 \n",
      " dropout_5 (Dropout)         (None, 256)               0         \n",
      "                                                                 \n",
      " dense_3 (Dense)             (None, 10)                2570      \n",
      "                                                                 \n",
      "=================================================================\n",
      "Total params: 412778 (1.57 MB)\n",
      "Trainable params: 412778 (1.57 MB)\n",
      "Non-trainable params: 0 (0.00 Byte)\n",
      "_________________________________________________________________\n"
     ]
    }
   ],
   "source": [
    "model.summary()"
   ]
  },
  {
   "cell_type": "code",
   "execution_count": 25,
   "metadata": {},
   "outputs": [
    {
     "name": "stdout",
     "output_type": "stream",
     "text": [
      "Epoch 1/10\n",
      "184/184 [==============================] - ETA: 0s - loss: 0.6463 - accuracy: 0.7687\n",
      "Epoch 1: val_loss improved from inf to 0.40295, saving model to model.weights.hdf5\n",
      "184/184 [==============================] - 34s 187ms/step - loss: 0.6463 - accuracy: 0.7687 - val_loss: 0.4029 - val_accuracy: 0.8600\n",
      "Epoch 2/10\n"
     ]
    },
    {
     "name": "stderr",
     "output_type": "stream",
     "text": [
      "c:\\Users\\camyr\\AppData\\Local\\Programs\\Python\\Python311\\Lib\\site-packages\\keras\\src\\engine\\training.py:3103: UserWarning: You are saving your model as an HDF5 file via `model.save()`. This file format is considered legacy. We recommend using instead the native Keras format, e.g. `model.save('my_model.keras')`.\n",
      "  saving_api.save_model(\n"
     ]
    },
    {
     "name": "stdout",
     "output_type": "stream",
     "text": [
      "184/184 [==============================] - ETA: 0s - loss: 0.4000 - accuracy: 0.8551\n",
      "Epoch 2: val_loss improved from 0.40295 to 0.36825, saving model to model.weights.hdf5\n",
      "184/184 [==============================] - 28s 151ms/step - loss: 0.4000 - accuracy: 0.8551 - val_loss: 0.3682 - val_accuracy: 0.8718\n",
      "Epoch 3/10\n",
      "184/184 [==============================] - ETA: 0s - loss: 0.3527 - accuracy: 0.8725\n",
      "Epoch 3: val_loss improved from 0.36825 to 0.33033, saving model to model.weights.hdf5\n",
      "184/184 [==============================] - 28s 151ms/step - loss: 0.3527 - accuracy: 0.8725 - val_loss: 0.3303 - val_accuracy: 0.8860\n",
      "Epoch 4/10\n",
      "184/184 [==============================] - ETA: 0s - loss: 0.3193 - accuracy: 0.8838\n",
      "Epoch 4: val_loss improved from 0.33033 to 0.29644, saving model to model.weights.hdf5\n",
      "184/184 [==============================] - 26s 143ms/step - loss: 0.3193 - accuracy: 0.8838 - val_loss: 0.2964 - val_accuracy: 0.8936\n",
      "Epoch 5/10\n",
      "184/184 [==============================] - ETA: 0s - loss: 0.2985 - accuracy: 0.8911\n",
      "Epoch 5: val_loss improved from 0.29644 to 0.28257, saving model to model.weights.hdf5\n",
      "184/184 [==============================] - 26s 143ms/step - loss: 0.2985 - accuracy: 0.8911 - val_loss: 0.2826 - val_accuracy: 0.8990\n",
      "Epoch 6/10\n",
      "184/184 [==============================] - ETA: 0s - loss: 0.2780 - accuracy: 0.8972\n",
      "Epoch 6: val_loss improved from 0.28257 to 0.26778, saving model to model.weights.hdf5\n",
      "184/184 [==============================] - 26s 141ms/step - loss: 0.2780 - accuracy: 0.8972 - val_loss: 0.2678 - val_accuracy: 0.9038\n",
      "Epoch 7/10\n",
      "184/184 [==============================] - ETA: 0s - loss: 0.2612 - accuracy: 0.9028\n",
      "Epoch 7: val_loss improved from 0.26778 to 0.25916, saving model to model.weights.hdf5\n",
      "184/184 [==============================] - 26s 141ms/step - loss: 0.2612 - accuracy: 0.9028 - val_loss: 0.2592 - val_accuracy: 0.9078\n",
      "Epoch 8/10\n",
      "184/184 [==============================] - ETA: 0s - loss: 0.2489 - accuracy: 0.9077\n",
      "Epoch 8: val_loss improved from 0.25916 to 0.25453, saving model to model.weights.hdf5\n",
      "184/184 [==============================] - 27s 148ms/step - loss: 0.2489 - accuracy: 0.9077 - val_loss: 0.2545 - val_accuracy: 0.9042\n",
      "Epoch 9/10\n",
      "184/184 [==============================] - ETA: 0s - loss: 0.2389 - accuracy: 0.9112\n",
      "Epoch 9: val_loss improved from 0.25453 to 0.24898, saving model to model.weights.hdf5\n",
      "184/184 [==============================] - 42s 230ms/step - loss: 0.2389 - accuracy: 0.9112 - val_loss: 0.2490 - val_accuracy: 0.9052\n",
      "Epoch 10/10\n",
      "184/184 [==============================] - ETA: 0s - loss: 0.2291 - accuracy: 0.9147\n",
      "Epoch 10: val_loss improved from 0.24898 to 0.24159, saving model to model.weights.hdf5\n",
      "184/184 [==============================] - 45s 244ms/step - loss: 0.2291 - accuracy: 0.9147 - val_loss: 0.2416 - val_accuracy: 0.9134\n"
     ]
    },
    {
     "data": {
      "text/plain": [
       "<keras.src.callbacks.History at 0x20547429750>"
      ]
     },
     "execution_count": 25,
     "metadata": {},
     "output_type": "execute_result"
    }
   ],
   "source": [
    "\n",
    "checkpointer = ModelCheckpoint(filepath='model.weights.hdf5', verbose = 1, save_best_only=True)\n",
    "model.fit(x_train,\n",
    "         y_train,\n",
    "         batch_size=300,\n",
    "         epochs=10,\n",
    "         validation_data=(x_valid, y_valid),\n",
    "         callbacks=[checkpointer])"
   ]
  },
  {
   "cell_type": "code",
   "execution_count": 26,
   "metadata": {},
   "outputs": [],
   "source": [
    "model.load_weights('model.weights.hdf5')"
   ]
  },
  {
   "cell_type": "code",
   "execution_count": 27,
   "metadata": {},
   "outputs": [
    {
     "name": "stdout",
     "output_type": "stream",
     "text": [
      "\n",
      " Test accuracy: 0.904\n"
     ]
    }
   ],
   "source": [
    "score = model.evaluate(x_test, y_test, verbose=0)\n",
    "\n",
    "print('\\n', 'Test accuracy:', round(score[1], 3))"
   ]
  }
 ],
 "metadata": {
  "kernelspec": {
   "display_name": "Python 3",
   "language": "python",
   "name": "python3"
  },
  "language_info": {
   "codemirror_mode": {
    "name": "ipython",
    "version": 3
   },
   "file_extension": ".py",
   "mimetype": "text/x-python",
   "name": "python",
   "nbconvert_exporter": "python",
   "pygments_lexer": "ipython3",
   "version": "3.11.5"
  }
 },
 "nbformat": 4,
 "nbformat_minor": 2
}
